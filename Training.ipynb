{
 "cells": [
  {
   "cell_type": "markdown",
   "metadata": {},
   "source": [
    "# Preprocess data"
   ]
  },
  {
   "cell_type": "markdown",
   "metadata": {},
   "source": [
    "#### Insert image train/validation data to `data/train` and `data/val` folders respectively \n",
    "#### Convert every image to `.jpeg` format (for tfrecord decode error prevention)"
   ]
  },
  {
   "cell_type": "code",
   "execution_count": 1,
   "metadata": {},
   "outputs": [],
   "source": [
    "!python preprocess/to_jpeg.py --folderPath data/train\n",
    "!python preprocess/to_jpeg.py --folderPath data/val"
   ]
  },
  {
   "cell_type": "markdown",
   "metadata": {},
   "source": [
    "#### Generate `.csv` file of annotations for each object on each image"
   ]
  },
  {
   "cell_type": "code",
   "execution_count": 2,
   "metadata": {},
   "outputs": [],
   "source": [
    "!python preprocess/xml_to_csv.py -i data/train -o data/train_labels.csv\n",
    "!python preprocess/xml_to_csv.py -i data/val -o data/val_labels.csv"
   ]
  },
  {
   "cell_type": "markdown",
   "metadata": {},
   "source": [
    "#### Generate `.tfrecord` files for tran/validation data to be fed into a model"
   ]
  },
  {
   "cell_type": "code",
   "execution_count": 3,
   "metadata": {},
   "outputs": [],
   "source": [
    "!python preprocess/facemask_tfrecord.py --output_file data/facemask_val.tfrecord --classes data/facemask.names --data_path data/val --csv_path data/val_labels.csv\n",
    "!python preprocess/facemask_tfrecord.py --output_file data/facemask_train.tfrecord --classes data/facemask.names --data_path data/train --csv_path data/train_labels.csv"
   ]
  },
  {
   "cell_type": "markdown",
   "metadata": {},
   "source": [
    "# Modelling/Training"
   ]
  },
  {
   "cell_type": "markdown",
   "metadata": {},
   "source": [
    "#### Download tiny-YOLO pretrained weights and transform to `.tf` format"
   ]
  },
  {
   "cell_type": "code",
   "execution_count": 4,
   "metadata": {},
   "outputs": [],
   "source": [
    "!wget https://pjreddie.com/media/files/yolov3-tiny.weights -O data/yolov3-tiny.weights\n",
    "!python convert.py --weights ./data/yolov3-tiny.weights --output ./checkpoints/face_mask_detection.tf --tiny"
   ]
  },
  {
   "cell_type": "markdown",
   "metadata": {},
   "source": [
    "### Training parameters\n",
    "--dataset `.tfrecord` dataset path for train set\n",
    "\n",
    "--val_dataset `.tfrecord` dataset path for validation set\n",
    "\n",
    "--weights `Tiny YOLO model weights path`\n",
    "\n",
    "--classes File path containing class names \n",
    "\n",
    "--transfer transfer type (for transfer learning with different output shape we need 'darknet')\n",
    "\n",
    "--epochs Number of epochs\n",
    "\n",
    "--num_classes Number of classes in our model\n",
    "\n",
    "--weights_num_classes Number of classes of model that we're transfering weights from\n",
    "\n",
    "--tiny True/False whether we use tiny version of YOLO or not"
   ]
  },
  {
   "cell_type": "code",
   "execution_count": 5,
   "metadata": {},
   "outputs": [],
   "source": [
    "!python train.py --dataset data/facemask_train.tfrecord --val_dataset data/facemask_val.tfrecord \\\n",
    "    --weights checkpoints/face_mask_detection.tf --classes data/facemask.names --mode fit \\\n",
    "    --transfer darknet --epochs 20 --num_classes 2 --weights_num_classes 80 --tiny True"
   ]
  }
 ],
 "metadata": {
  "kernelspec": {
   "display_name": "Python 3",
   "language": "python",
   "name": "python3"
  },
  "language_info": {
   "codemirror_mode": {
    "name": "ipython",
    "version": 3
   },
   "file_extension": ".py",
   "mimetype": "text/x-python",
   "name": "python",
   "nbconvert_exporter": "python",
   "pygments_lexer": "ipython3",
   "version": "3.7.7"
  }
 },
 "nbformat": 4,
 "nbformat_minor": 4
}
